{
 "cells": [
  {
   "cell_type": "code",
   "execution_count": 1,
   "metadata": {},
   "outputs": [],
   "source": [
    "import gdown"
   ]
  },
  {
   "cell_type": "code",
   "execution_count": 5,
   "metadata": {},
   "outputs": [
    {
     "name": "stderr",
     "output_type": "stream",
     "text": [
      "Downloading...\n",
      "From: https://drive.google.com/uc?id=1-olZhuTD8qhjtLkFs0X5o1wAYIqZb9Qz\n",
      "To: /home/luthfibalaka/NLP-APE/data/train.txt\n",
      "100%|██████████| 22.7M/22.7M [00:01<00:00, 19.7MB/s]\n"
     ]
    },
    {
     "data": {
      "text/plain": [
       "'train.txt'"
      ]
     },
     "execution_count": 5,
     "metadata": {},
     "output_type": "execute_result"
    }
   ],
   "source": [
    "file_id = \"1-olZhuTD8qhjtLkFs0X5o1wAYIqZb9Qz\"\n",
    "url = f\"https://drive.google.com/uc?id={file_id}\"\n",
    "output = \"train.txt\"\n",
    "gdown.download(url, output)"
   ]
  },
  {
   "cell_type": "code",
   "execution_count": 6,
   "metadata": {},
   "outputs": [
    {
     "name": "stderr",
     "output_type": "stream",
     "text": [
      "Downloading...\n",
      "From: https://drive.google.com/uc?id=1UUnTgF0yBxZR24LFX2RFJQtPwgOBibaD\n",
      "To: /home/luthfibalaka/NLP-APE/data/test.txt\n",
      "100%|██████████| 2.90M/2.90M [00:00<00:00, 44.7MB/s]\n"
     ]
    },
    {
     "data": {
      "text/plain": [
       "'test.txt'"
      ]
     },
     "execution_count": 6,
     "metadata": {},
     "output_type": "execute_result"
    }
   ],
   "source": [
    "file_id = \"1UUnTgF0yBxZR24LFX2RFJQtPwgOBibaD\"\n",
    "url = f\"https://drive.google.com/uc?id={file_id}\"\n",
    "output = \"test.txt\"\n",
    "gdown.download(url, output)"
   ]
  },
  {
   "cell_type": "code",
   "execution_count": 7,
   "metadata": {},
   "outputs": [
    {
     "name": "stderr",
     "output_type": "stream",
     "text": [
      "Downloading...\n",
      "From: https://drive.google.com/uc?id=1WzyHRauvyLZmcovJ4nxYcLFDAklL8Cme\n",
      "To: /home/luthfibalaka/NLP-APE/data/dev.txt\n",
      "100%|██████████| 2.91M/2.91M [00:00<00:00, 43.2MB/s]\n"
     ]
    },
    {
     "data": {
      "text/plain": [
       "'dev.txt'"
      ]
     },
     "execution_count": 7,
     "metadata": {},
     "output_type": "execute_result"
    }
   ],
   "source": [
    "file_id = \"1WzyHRauvyLZmcovJ4nxYcLFDAklL8Cme\"\n",
    "url = f\"https://drive.google.com/uc?id={file_id}\"\n",
    "output = \"dev.txt\"\n",
    "gdown.download(url, output)"
   ]
  }
 ],
 "metadata": {
  "kernelspec": {
   "display_name": "base",
   "language": "python",
   "name": "python3"
  },
  "language_info": {
   "codemirror_mode": {
    "name": "ipython",
    "version": 3
   },
   "file_extension": ".py",
   "mimetype": "text/x-python",
   "name": "python",
   "nbconvert_exporter": "python",
   "pygments_lexer": "ipython3",
   "version": "3.12.2"
  }
 },
 "nbformat": 4,
 "nbformat_minor": 2
}
